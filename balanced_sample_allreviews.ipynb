{
  "nbformat": 4,
  "nbformat_minor": 0,
  "metadata": {
    "colab": {
      "name": "balanced_sample_allreviews.ipynb",
      "provenance": [],
      "collapsed_sections": [],
      "authorship_tag": "ABX9TyMOAZLVCz7Nhj21/u9m4Hey",
      "include_colab_link": true
    },
    "kernelspec": {
      "name": "python3",
      "display_name": "Python 3"
    }
  },
  "cells": [
    {
      "cell_type": "markdown",
      "metadata": {
        "id": "view-in-github",
        "colab_type": "text"
      },
      "source": [
        "<a href=\"https://colab.research.google.com/github/nebulousman/NLP-training-dataset/blob/master/balanced_sample_allreviews.ipynb\" target=\"_parent\"><img src=\"https://colab.research.google.com/assets/colab-badge.svg\" alt=\"Open In Colab\"/></a>"
      ]
    },
    {
      "cell_type": "markdown",
      "metadata": {
        "id": "tMKMURlcun3N"
      },
      "source": [
        "# **Sample of allreviews.csv**\r\n",
        "\r\n",
        "This code was created for CrowdDoing and the efforts to apply NLP tecniques to classify product reviews by consumers.\r\n",
        "allrevies.csv contains 1,538,799 amazon reviews of medicinal products majority of which are positive (71% fifestars 12% 4stars & rest 1-3). The goal is to create a balanced sample for purposes of modeling and human labeling without introducing bias."
      ]
    },
    {
      "cell_type": "code",
      "metadata": {
        "id": "5JStmaQg24_E"
      },
      "source": [
        "#imports\r\n",
        "import pandas as pd\r\n",
        "\r\n",
        "import matplotlib.pyplot as plt\r\n",
        "import seaborn as sns\r\n",
        "%matplotlib inline"
      ],
      "execution_count": null,
      "outputs": []
    },
    {
      "cell_type": "code",
      "metadata": {
        "colab": {
          "base_uri": "https://localhost:8080/"
        },
        "id": "V72B73wszHv3",
        "outputId": "3d6e7df8-9354-4e96-e0d9-476cc25fcdab"
      },
      "source": [
        "#connect to google drive for dataset\r\n",
        "# mount google drive for access to dataset previously added to the drive\r\n",
        "from google.colab import drive\r\n",
        "drive.mount('/content/drive')\r\n",
        "#if you need to remount drive\r\n",
        "#drive.mount('/content/drive', force_remount=True)"
      ],
      "execution_count": null,
      "outputs": [
        {
          "output_type": "stream",
          "text": [
            "Mounted at /content/drive\n"
          ],
          "name": "stdout"
        }
      ]
    },
    {
      "cell_type": "code",
      "metadata": {
        "id": "0ICbdvRmJyEF"
      },
      "source": [
        "# read dataset into dataframe - change path if needed\r\n",
        "df = pd.read_csv('/content/drive/My Drive/Analysis/allreviews.csv')"
      ],
      "execution_count": null,
      "outputs": []
    },
    {
      "cell_type": "code",
      "metadata": {
        "id": "7oXiJeWa-1z7"
      },
      "source": [
        "#create id for each review that maps to original index of allreviews dataframe\r\n",
        "#this is a precaution as analysis and manipulation should not re-index but in case\r\n",
        "#dataframe is somehow re-indexed original index is preserved by this ID column\r\n",
        "df['ID_allreviews_index'] = df.index"
      ],
      "execution_count": null,
      "outputs": []
    },
    {
      "cell_type": "code",
      "metadata": {
        "id": "B9SovD6dSpyR",
        "colab": {
          "base_uri": "https://localhost:8080/",
          "height": 368
        },
        "outputId": "47600edb-e17f-414f-bb2d-2d56c648e949"
      },
      "source": [
        "#cleanup\n",
        "\n",
        "#drop blank reviews - not sure but na & null seem to be the same in python\n",
        "#note ProcessedText was created by others - believe it is ReviewContent lowercase, punctuation & stopwords removed &\n",
        "#lemmatized or maybe stemmed (hope it was lemmatization)\n",
        "#df = df[df[\"ProcessedText\"].notna()]\n",
        "df = df[df['ProcessedText'].notnull()]\n",
        "df = df[df['ReviewContent'].notnull()] #for some reason there are 93 notnull processed reviews where review content is null\n",
        "#drop dupes\n",
        "df = df.drop_duplicates()\n",
        "\n",
        "#count tokens and save value in new column\n",
        "f=lambda x: len(x['ProcessedText'].split(' '))\n",
        "df['wordcount']=df.apply(lambda x: len(x['ProcessedText'].split(' ')), axis=1)\n",
        "\n",
        "#remove reviews with more than 100 words - avg paragraph is less than 100 & most of our reviews are under 100\n",
        "#our dataframe does have a small number reviews in excess of 1K which would be computationaly expensive and would add little to the analysis\n",
        "df = df.loc[df['wordcount'] <= 100]\n",
        "\n",
        "#view distribution of wordcount column\n",
        "fig=sns.displot(df['wordcount'])\n",
        "plt.xlabel(\"Word Count\")\n",
        "plt.ylabel(\"Number of Reviews\")\n",
        "plt.show(fig)"
      ],
      "execution_count": null,
      "outputs": [
        {
          "output_type": "display_data",
          "data": {
            "image/png": "[encoded data removed]",
            "text/plain": [
              "<Figure size 360x360 with 1 Axes>"
            ]
          },
          "metadata": {
            "tags": [],
            "needs_background": "light"
          }
        }
      ]
    },
    {
      "cell_type": "code",
      "metadata": {
        "colab": {
          "base_uri": "https://localhost:8080/"
        },
        "id": "Lukj7Y-_VSUj",
        "outputId": "bcbd9d4e-0d89-45ed-fecf-f40b77f5516a"
      },
      "source": [
        "#create groupings by review star in new column - original data has 71% fifestars 12% 4stars & rest 1-3\n",
        "#purpose is to create groupings to create a balanced sample for labeling and analysis\n",
        "#df['ReviewStar'].plot(kind='hist')\n",
        "df['ReviewStarGroup']=df['ReviewStar']\n",
        "df.ReviewStarGroup[(df.ReviewStarGroup==1) | (df.ReviewStarGroup==2) | (df.ReviewStarGroup==3)] = '1-3'\n",
        "df.ReviewStarGroup[(df.ReviewStarGroup==4) | (df.ReviewStarGroup==5)] = '4-5'\n",
        "#check distribution by group\n",
        "df['ReviewStarGroup'].value_counts()"
      ],
      "execution_count": null,
      "outputs": [
        {
          "output_type": "stream",
          "text": [
            "/usr/local/lib/python3.6/dist-packages/ipykernel_launcher.py:5: SettingWithCopyWarning: \n",
            "A value is trying to be set on a copy of a slice from a DataFrame\n",
            "\n",
            "See the caveats in the documentation: https://pandas.pydata.org/pandas-docs/stable/user_guide/indexing.html#returning-a-view-versus-a-copy\n",
            "  \"\"\"\n",
            "/usr/local/lib/python3.6/dist-packages/ipykernel_launcher.py:6: SettingWithCopyWarning: \n",
            "A value is trying to be set on a copy of a slice from a DataFrame\n",
            "\n",
            "See the caveats in the documentation: https://pandas.pydata.org/pandas-docs/stable/user_guide/indexing.html#returning-a-view-versus-a-copy\n",
            "  \n"
          ],
          "name": "stderr"
        },
        {
          "output_type": "execute_result",
          "data": {
            "text/plain": [
              "4-5    1248393\n",
              "1-3     265528\n",
              "Name: ReviewStarGroup, dtype: int64"
            ]
          },
          "metadata": {
            "tags": []
          },
          "execution_count": 6
        }
      ]
    },
    {
      "cell_type": "code",
      "metadata": {
        "id": "XMlEwRvpVbTM"
      },
      "source": [
        "#sample entire minority class plus equal number randomly picked from majority class\n",
        "group = df.groupby('ReviewStarGroup')\n",
        "df = group.apply(lambda x: x.sample(group.size().min()))"
      ],
      "execution_count": null,
      "outputs": []
    },
    {
      "cell_type": "code",
      "metadata": {
        "id": "cm7EANp59Y-o"
      },
      "source": [
        "#save results to file - to be used for future labeling by volunteers\r\n",
        "#goal is to have a balanced sample without bias\r\n",
        "df.to_csv('/content/drive/My Drive/Analysis/CrowdDoingAmazonReviews.csv')"
      ],
      "execution_count": null,
      "outputs": []
    },
    {
      "cell_type": "code",
      "metadata": {
        "colab": {
          "base_uri": "https://localhost:8080/"
        },
        "id": "jndCQ1LR5Og8",
        "outputId": "c0b2c0f8-e652-4277-f3d8-4666420b3737"
      },
      "source": [
        "df['ReviewStarGroup'].value_counts()"
      ],
      "execution_count": null,
      "outputs": [
        {
          "output_type": "execute_result",
          "data": {
            "text/plain": [
              "1-3    265528\n",
              "4-5    265528\n",
              "Name: ReviewStarGroup, dtype: int64"
            ]
          },
          "metadata": {
            "tags": []
          },
          "execution_count": 9
        }
      ]
    }
  ]
}